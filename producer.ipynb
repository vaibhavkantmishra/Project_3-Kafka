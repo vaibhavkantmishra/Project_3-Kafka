{
 "cells": [
  {
   "cell_type": "code",
   "execution_count": null,
   "id": "70e6b0ab",
   "metadata": {},
   "outputs": [
    {
     "name": "stderr",
     "output_type": "stream",
     "text": [
      "--- request header ---\n",
      "GET /2/rsvps HTTP/1.1\n",
      "Upgrade: websocket\n",
      "Host: stream.meetup.com\n",
      "Origin: http://stream.meetup.com\n",
      "Sec-WebSocket-Key: AnhB662e2yBETQZjD5SMWA==\n",
      "Sec-WebSocket-Version: 13\n",
      "Connection: upgrade\n",
      "\n",
      "\n",
      "-----------------------\n",
      "--- response header ---\n",
      "HTTP/1.1 101 Switching Protocols\n",
      "Date: Thu, 02 Sep 2021 07:45:46 GMT\n",
      "Connection: upgrade\n",
      "Upgrade: websocket\n",
      "Sec-WebSocket-Accept: 2c9P8PH7Fbn9mDNiU8DA8lg3F+o=\n",
      "-----------------------\n"
     ]
    }
   ],
   "source": [
    "import websocket\n",
    "import json\n",
    "import time\n",
    "from kafka import KafkaProducer\n",
    "\n",
    "\n",
    "def on_message(ws, message):\n",
    "     producer.send('numtest', message)\n",
    "     producer.flush()\n",
    "\n",
    "producer = KafkaProducer(value_serializer=lambda m: json.dumps(m).encode('utf-8'),\n",
    "                         bootstrap_servers=['localhost:9092'])\n",
    "\n",
    "websocket.enableTrace(True)\n",
    "\n",
    "ws = websocket.WebSocketApp(\"wss://stream.meetup.com/2/rsvps\", on_message=on_message)\n",
    "\n",
    "while(1):\n",
    "    ws.run_forever()\n",
    "    time.sleep(10)\n"
   ]
  },
  {
   "cell_type": "code",
   "execution_count": null,
   "id": "928367d5",
   "metadata": {},
   "outputs": [],
   "source": []
  }
 ],
 "metadata": {
  "kernelspec": {
   "display_name": "Python 3",
   "language": "python",
   "name": "python3"
  },
  "language_info": {
   "codemirror_mode": {
    "name": "ipython",
    "version": 3
   },
   "file_extension": ".py",
   "mimetype": "text/x-python",
   "name": "python",
   "nbconvert_exporter": "python",
   "pygments_lexer": "ipython3",
   "version": "3.8.8"
  }
 },
 "nbformat": 4,
 "nbformat_minor": 5
}
